{
 "cells": [
  {
   "cell_type": "code",
   "execution_count": null,
   "metadata": {},
   "outputs": [],
   "source": [
    "#xlfs = [x for x in os.listdir('.') if os.path.isfile(x) and os.path.splitext(x)[1] == '.xlsx']"
   ]
  },
  {
   "cell_type": "code",
   "execution_count": 1,
   "metadata": {},
   "outputs": [],
   "source": [
    "import os"
   ]
  },
  {
   "cell_type": "code",
   "execution_count": 4,
   "metadata": {},
   "outputs": [
    {
     "data": {
      "text/plain": [
       "'C:\\\\Users\\\\46520\\\\code\\\\python\\\\3、Recognition\\\\银行流水'"
      ]
     },
     "execution_count": 4,
     "metadata": {},
     "output_type": "execute_result"
    }
   ],
   "source": [
    "path=os.path.abspath('.')+'\\\\银行流水'\n",
    "path"
   ]
  },
  {
   "cell_type": "code",
   "execution_count": 6,
   "metadata": {},
   "outputs": [
    {
     "data": {
      "text/plain": [
       "['中信8939.xlsx',\n",
       " '中行0955.xls',\n",
       " '中行2442.xls',\n",
       " '中行4628.xls',\n",
       " '兴业1717.xls',\n",
       " '夏门国际银行2月流水.xls',\n",
       " '富滇银行新民支行2月流水.xls',\n",
       " '富滇银行营业部2月流水.xls',\n",
       " '广发0661.xls',\n",
       " '广发银行 0661 2月流水.xls',\n",
       " '建设银行城北支行0919 2月流水.xls',\n",
       " '建设银行城北支行9425 2月流水.xls',\n",
       " '建设银行城北支行9780 2月流水.xls',\n",
       " '招商银行 0503   2月流水.xls',\n",
       " '招商银行0702 2月流水.xls',\n",
       " '民生.xlsx',\n",
       " '民生5584.xlsx',\n",
       " '民生6183.xlsx',\n",
       " '民生7009.xlsx',\n",
       " '浦发银行0461   2月流水.xls']"
      ]
     },
     "execution_count": 6,
     "metadata": {},
     "output_type": "execute_result"
    }
   ],
   "source": [
    "xlfs = [x for x in os.listdir(path)]\n",
    "xlfs"
   ]
  },
  {
   "cell_type": "code",
   "execution_count": null,
   "metadata": {},
   "outputs": [],
   "source": []
  }
 ],
 "metadata": {
  "kernelspec": {
   "display_name": "Python 3",
   "language": "python",
   "name": "python3"
  },
  "language_info": {
   "codemirror_mode": {
    "name": "ipython",
    "version": 3
   },
   "file_extension": ".py",
   "mimetype": "text/x-python",
   "name": "python",
   "nbconvert_exporter": "python",
   "pygments_lexer": "ipython3",
   "version": "3.7.5"
  }
 },
 "nbformat": 4,
 "nbformat_minor": 4
}
